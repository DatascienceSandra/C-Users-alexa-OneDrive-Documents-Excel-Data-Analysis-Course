{
  "nbformat": 4,
  "nbformat_minor": 0,
  "metadata": {
    "colab": {
      "provenance": [],
      "authorship_tag": "ABX9TyMdFzhY9BjJCxzh2M+7idbb",
      "include_colab_link": true
    },
    "kernelspec": {
      "name": "python3",
      "display_name": "Python 3"
    },
    "language_info": {
      "name": "python"
    }
  },
  "cells": [
    {
      "cell_type": "markdown",
      "metadata": {
        "id": "view-in-github",
        "colab_type": "text"
      },
      "source": [
        "<a href=\"https://colab.research.google.com/github/DatascienceSandra/C-Users-alexa-OneDrive-Documents-Excel-Data-Analysis-Course/blob/main/Class.ipynb\" target=\"_parent\"><img src=\"https://colab.research.google.com/assets/colab-badge.svg\" alt=\"Open In Colab\"/></a>"
      ]
    },
    {
      "cell_type": "code",
      "execution_count": 2,
      "metadata": {
        "id": "ZnQF2lbd52HE"
      },
      "outputs": [],
      "source": [
        "class LukeList:\n",
        "    def __init__(self):\n",
        "        \"\"\"Initialize an empty list.\"\"\"\n",
        "        self._items = []\n",
        "\n",
        "    def add(self, item):\n",
        "        \"\"\"Add an item to the end of the list.\"\"\"\n",
        "        self._items.append(item)\n",
        "\n",
        "    def __getitem__(self, index):\n",
        "        \"\"\"Retrieve an item by index.\"\"\"\n",
        "        return self._items[index]\n",
        "\n",
        "    def __repr__(self):\n",
        "        \"\"\"Return a string representation of the list.\"\"\"\n",
        "        return str(self._items)\n",
        "\n",
        "    def __len__(self):\n",
        "        \"\"\"Return the length of the list.\"\"\"\n",
        "        return len(self._items)\n"
      ]
    },
    {
      "cell_type": "code",
      "source": [
        "my_list = LukeList()"
      ],
      "metadata": {
        "id": "BQx-3T6C93hR"
      },
      "execution_count": 3,
      "outputs": []
    },
    {
      "cell_type": "code",
      "source": [
        "LukeList()"
      ],
      "metadata": {
        "colab": {
          "base_uri": "https://localhost:8080/"
        },
        "id": "e4CT9ToN-CHx",
        "outputId": "8bcf8fbb-3141-4a4e-81d4-ad266fe8cb94"
      },
      "execution_count": 5,
      "outputs": [
        {
          "output_type": "execute_result",
          "data": {
            "text/plain": [
              "[]"
            ]
          },
          "metadata": {},
          "execution_count": 5
        }
      ]
    },
    {
      "cell_type": "code",
      "source": [
        "my_list.add(\"Data Nerd\")"
      ],
      "metadata": {
        "id": "HqA89hCt-Iyj"
      },
      "execution_count": 6,
      "outputs": []
    },
    {
      "cell_type": "code",
      "source": [
        "class BaseSalary:\n",
        "    def __init__(self, base_amount, tax_rate):\n",
        "        \"\"\"Initialize base salary with a base amount and tax rate.\"\"\"\n",
        "        self.base_amount = base_amount\n",
        "        self.tax_rate = tax_rate\n",
        "\n",
        "    def calculate_net_salary(self):\n",
        "        \"\"\"Calculate the net salary after tax deduction.\"\"\"\n",
        "        return self.base_amount * (1 - self.tax_rate)\n",
        "\n",
        "# Create an instance of BaseSalary\n",
        "data_salary = BaseSalary(10000, 0.2)\n",
        "\n",
        "# Calculate and print the net salary\n",
        "net_salary = data_salary.calculate_net_salary()\n",
        "print(f\"Net Salary: {net_salary}\")\n"
      ],
      "metadata": {
        "colab": {
          "base_uri": "https://localhost:8080/"
        },
        "id": "hBEahrsa-TF8",
        "outputId": "5d81e60c-070e-4cc0-800f-9ffcd9e6779f"
      },
      "execution_count": 9,
      "outputs": [
        {
          "output_type": "stream",
          "name": "stdout",
          "text": [
            "Net Salary: 8000.0\n"
          ]
        }
      ]
    },
    {
      "cell_type": "code",
      "source": [
        "class BaseSalary:\n",
        "  def __init__(self, base_salary):\n",
        "    pass"
      ],
      "metadata": {
        "id": "gV5fs_gk_lvK"
      },
      "execution_count": 12,
      "outputs": []
    },
    {
      "cell_type": "code",
      "source": [
        "class BaseSalary:\n",
        "    def __init__(self, base_amount, tax_rate=0.2):\n",
        "        \"\"\"Initialize base salary with a base amount and an optional tax rate.\"\"\"\n",
        "        self.base_amount = base_amount\n",
        "        self.tax_rate = tax_rate\n",
        "\n",
        "    def calculate_net_salary(self):\n",
        "        \"\"\"Calculate the net salary after tax deduction.\"\"\"\n",
        "        return self.base_amount * (1 - self.tax_rate)\n",
        "\n",
        "# Create an instance of BaseSalary with a default tax rate\n",
        "salary = BaseSalary(100000)\n",
        "\n",
        "# Access and print the base amount\n",
        "print(f\"Base Salary: {salary.base_amount}\")\n",
        "\n"
      ],
      "metadata": {
        "colab": {
          "base_uri": "https://localhost:8080/"
        },
        "id": "nagHe-1QAkoX",
        "outputId": "73bebb3a-485f-4c68-edd7-886eee50d6f9"
      },
      "execution_count": 14,
      "outputs": [
        {
          "output_type": "stream",
          "name": "stdout",
          "text": [
            "Base Salary: 100000\n"
          ]
        }
      ]
    },
    {
      "cell_type": "code",
      "source": [
        "class BaseSalary:\n",
        "    def __init__(self, base_amount, tax_rate=0.2, symbol='$'):\n",
        "        \"\"\"Initialize base salary with a base amount, an optional tax rate, and a currency symbol.\"\"\"\n",
        "        self.base_amount = base_amount\n",
        "        self.tax_rate = tax_rate\n",
        "        self.symbol = symbol\n",
        "\n",
        "    def calculate_net_salary(self):\n",
        "        \"\"\"Calculate the net salary after tax deduction.\"\"\"\n",
        "        return self.base_amount * (1 - self.tax_rate)\n",
        "\n",
        "# Create an instance of BaseSalary\n",
        "salary = BaseSalary(10000, symbol='₹')\n",
        "\n",
        "# Access and print the symbol\n",
        "print(f\"Salary Currency Symbol: {salary.symbol}\")\n"
      ],
      "metadata": {
        "colab": {
          "base_uri": "https://localhost:8080/"
        },
        "id": "SlnRPKSXAuRq",
        "outputId": "6c3d71fd-0a3e-4354-859c-90d01ef8d5c0"
      },
      "execution_count": 16,
      "outputs": [
        {
          "output_type": "stream",
          "name": "stdout",
          "text": [
            "Salary Currency Symbol: ₹\n"
          ]
        }
      ]
    },
    {
      "cell_type": "code",
      "source": [
        "salary"
      ],
      "metadata": {
        "colab": {
          "base_uri": "https://localhost:8080/"
        },
        "id": "9nCUHfhyC_GH",
        "outputId": "8266da94-88e9-475d-81b0-60d4df5f2a4e"
      },
      "execution_count": 17,
      "outputs": [
        {
          "output_type": "execute_result",
          "data": {
            "text/plain": [
              "<__main__.BaseSalary at 0x7e106c18ef80>"
            ]
          },
          "metadata": {},
          "execution_count": 17
        }
      ]
    },
    {
      "cell_type": "code",
      "source": [
        "value = 100000\n",
        "\n",
        "formatted_value = f'{value:,.0f}'\n",
        "print(formatted_value)\n"
      ],
      "metadata": {
        "colab": {
          "base_uri": "https://localhost:8080/"
        },
        "id": "SOJq87jwDXeW",
        "outputId": "36d7dfee-58ce-483f-87c3-1c1e54515fde"
      },
      "execution_count": 20,
      "outputs": [
        {
          "output_type": "stream",
          "name": "stdout",
          "text": [
            "100,000\n"
          ]
        }
      ]
    },
    {
      "cell_type": "code",
      "source": [
        "class BaseSalary:\n",
        "  def __init__(self, base_salary, bonus_rate=0.1, symbol=\"$\"):\n",
        "    self.base_salary=base_salary\n",
        "    self.bonus_rate=bonus_rate\n",
        "    self.symbol =symbol\n",
        "    self.total_salary =base_salary *(1 + bonus_rate)\n",
        "    self.bonus = (self.total_salary - base_salary) / base_salary\n",
        "\n",
        "    def __repr__(self):\n",
        "      return f'{self.symbol}{self.base_salary:,.0f}'\n",
        "\n",
        "      def show_salary(self):\n",
        "        return f'{self.symbol}{self.base_salary:,.0f}'\n",
        "\n",
        "        def show_bonus(self):\n",
        "          return f'{self.symbol}{self.total_salary:,.0f}'\n",
        "\n",
        "      def calculate_salary(base_salary, bonus_rate=.1):\n",
        "        return base_salary *(1 + bonus_rate)\n",
        "\n",
        "        def calculate_bonus(total_salary, base_salary):\n",
        "          return (total_salary -base_salary) / base_salary"
      ],
      "metadata": {
        "id": "FDTTWvmeEGbY"
      },
      "execution_count": 27,
      "outputs": []
    },
    {
      "cell_type": "code",
      "source": [
        "salary = BaseSalary(100000)\n",
        "\n",
        "salary.symbol"
      ],
      "metadata": {
        "colab": {
          "base_uri": "https://localhost:8080/",
          "height": 35
        },
        "id": "lJa4RT2DFhnv",
        "outputId": "aedc9609-1855-4ee8-dcf8-8c91970cdc0f"
      },
      "execution_count": 22,
      "outputs": [
        {
          "output_type": "execute_result",
          "data": {
            "text/plain": [
              "'$'"
            ],
            "application/vnd.google.colaboratory.intrinsic+json": {
              "type": "string"
            }
          },
          "metadata": {},
          "execution_count": 22
        }
      ]
    },
    {
      "cell_type": "code",
      "source": [
        "salary"
      ],
      "metadata": {
        "colab": {
          "base_uri": "https://localhost:8080/"
        },
        "id": "0rXrUWzFFsoc",
        "outputId": "b8206853-0567-4164-b08d-e2683ae8a040"
      },
      "execution_count": 23,
      "outputs": [
        {
          "output_type": "execute_result",
          "data": {
            "text/plain": [
              "<__main__.BaseSalary at 0x7e106be86ce0>"
            ]
          },
          "metadata": {},
          "execution_count": 23
        }
      ]
    },
    {
      "cell_type": "code",
      "source": [
        "class BaseSalary:\n",
        "    def __init__(self, base_amount, tax_rate=0.2):\n",
        "        \"\"\"Initialize base salary with a base amount and optional tax rate.\"\"\"\n",
        "        self.base_amount = base_amount\n",
        "        self.tax_rate = tax_rate\n",
        "\n",
        "    def calculate_net_salary(self):\n",
        "        \"\"\"Calculate the net salary after tax deduction.\"\"\"\n",
        "        return self.base_amount * (1 - self.tax_rate)\n",
        "\n",
        "    def calculate_bonus(self, percentage):\n",
        "        \"\"\"Calculate the bonus based on a percentage of the base amount.\"\"\"\n",
        "        return self.base_amount * (percentage / 100)\n",
        "\n",
        "# Create an instance of BaseSalary\n",
        "salary = BaseSalary(100000)\n",
        "\n",
        "# Call the calculate_bonus method with a bonus percentage\n",
        "bonus = salary.calculate_bonus(10)\n",
        "print(f\"Bonus: {bonus}\")\n"
      ],
      "metadata": {
        "colab": {
          "base_uri": "https://localhost:8080/"
        },
        "id": "POyKkHIYGP9e",
        "outputId": "4b27292c-6eef-4376-fac1-b789ff5d2fe8"
      },
      "execution_count": 28,
      "outputs": [
        {
          "output_type": "stream",
          "name": "stdout",
          "text": [
            "Bonus: 10000.0\n"
          ]
        }
      ]
    },
    {
      "cell_type": "code",
      "source": [],
      "metadata": {
        "id": "X42GHizWJdvj"
      },
      "execution_count": null,
      "outputs": []
    }
  ]
}