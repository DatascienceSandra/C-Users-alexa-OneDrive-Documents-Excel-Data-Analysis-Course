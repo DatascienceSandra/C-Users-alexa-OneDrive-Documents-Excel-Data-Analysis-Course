{
  "nbformat": 4,
  "nbformat_minor": 0,
  "metadata": {
    "colab": {
      "provenance": [],
      "authorship_tag": "ABX9TyMac/VLgFpGYgxZ8XojwMQ7",
      "include_colab_link": true
    },
    "kernelspec": {
      "name": "python3",
      "display_name": "Python 3"
    },
    "language_info": {
      "name": "python"
    }
  },
  "cells": [
    {
      "cell_type": "markdown",
      "metadata": {
        "id": "view-in-github",
        "colab_type": "text"
      },
      "source": [
        "<a href=\"https://colab.research.google.com/github/DatascienceSandra/C-Users-alexa-OneDrive-Documents-Excel-Data-Analysis-Course/blob/main/Numpy.ipynb\" target=\"_parent\"><img src=\"https://colab.research.google.com/assets/colab-badge.svg\" alt=\"Open In Colab\"/></a>"
      ]
    },
    {
      "cell_type": "code",
      "execution_count": 1,
      "metadata": {
        "id": "N5eYGNJhMzbc"
      },
      "outputs": [],
      "source": [
        "import numpy as np"
      ]
    },
    {
      "cell_type": "code",
      "source": [
        "my_array = np.array([1,2,3,4])"
      ],
      "metadata": {
        "id": "4DgxP4DkM48B"
      },
      "execution_count": 2,
      "outputs": []
    },
    {
      "cell_type": "code",
      "source": [
        "import numpy as np\n",
        "\n",
        "# Example data\n",
        "base_salaries = np.array([50000, 60000, 70000, 80000])\n",
        "bonus_rates = np.array([0.1, 0.2, 0.15, 0.05])\n",
        "\n",
        "# Calculate total salary (base salary + bonus)\n",
        "total_salaries = base_salaries * (1 + bonus_rates)\n",
        "\n",
        "print(total_salaries)\n"
      ],
      "metadata": {
        "colab": {
          "base_uri": "https://localhost:8080/"
        },
        "id": "IcSU5s_INB7z",
        "outputId": "c160dacd-11a4-41d3-bbc5-bdef1d589feb"
      },
      "execution_count": 4,
      "outputs": [
        {
          "output_type": "stream",
          "name": "stdout",
          "text": [
            "[55000. 72000. 80500. 84000.]\n"
          ]
        }
      ]
    },
    {
      "cell_type": "code",
      "source": [
        "np.mean(total_salaries)"
      ],
      "metadata": {
        "colab": {
          "base_uri": "https://localhost:8080/"
        },
        "id": "EAiT3D7fN6bR",
        "outputId": "1413f8e0-0627-466f-e181-b7277211ec46"
      },
      "execution_count": 5,
      "outputs": [
        {
          "output_type": "execute_result",
          "data": {
            "text/plain": [
              "72875.0"
            ]
          },
          "metadata": {},
          "execution_count": 5
        }
      ]
    },
    {
      "cell_type": "markdown",
      "source": [
        "#Job titles\n",
        "job_titles =np.array(['Data Analyst', 'Data Scientist', 'Data Engineer','Machine Learning Engineer', AI Engineer'])"
      ],
      "metadata": {
        "id": "A7Hx8QJBOEo8"
      }
    },
    {
      "cell_type": "code",
      "source": [
        "type(None)"
      ],
      "metadata": {
        "colab": {
          "base_uri": "https://localhost:8080/"
        },
        "id": "u9_PyzAdRaHa",
        "outputId": "688e9396-81dc-49af-c29d-470f5c4ea95b"
      },
      "execution_count": 7,
      "outputs": [
        {
          "output_type": "execute_result",
          "data": {
            "text/plain": [
              "NoneType"
            ]
          },
          "metadata": {},
          "execution_count": 7
        }
      ]
    },
    {
      "cell_type": "code",
      "source": [
        "type(np.nan)"
      ],
      "metadata": {
        "colab": {
          "base_uri": "https://localhost:8080/"
        },
        "id": "GS8ajs4cRs2P",
        "outputId": "2db83f6b-e12e-4fd0-d6c7-5f85d953155b"
      },
      "execution_count": 9,
      "outputs": [
        {
          "output_type": "execute_result",
          "data": {
            "text/plain": [
              "float"
            ]
          },
          "metadata": {},
          "execution_count": 9
        }
      ]
    },
    {
      "cell_type": "code",
      "source": [
        "np.nanmean(total_salaries)"
      ],
      "metadata": {
        "colab": {
          "base_uri": "https://localhost:8080/"
        },
        "id": "YPyAnP_hR4xU",
        "outputId": "ffeeb4e0-0aeb-42c2-8d02-645e16419735"
      },
      "execution_count": 10,
      "outputs": [
        {
          "output_type": "execute_result",
          "data": {
            "text/plain": [
              "72875.0"
            ]
          },
          "metadata": {},
          "execution_count": 10
        }
      ]
    }
  ]
}